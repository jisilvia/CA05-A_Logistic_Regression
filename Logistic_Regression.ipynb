{
  "nbformat": 4,
  "nbformat_minor": 0,
  "metadata": {
    "colab": {
      "name": "CA05-A - Logistic Regression",
      "provenance": []
    },
    "kernelspec": {
      "name": "python3",
      "display_name": "Python 3"
    },
    "language_info": {
      "name": "python"
    }
  },
  "cells": [
    {
      "cell_type": "markdown",
      "metadata": {
        "id": "UaSvcWqUgeGJ"
      },
      "source": [
        "# CA05-A - Logistic Regression\n",
        "\n",
        "Cardiovascular Disease (CVD) kills more people than cancer globally. A dataset of real heart patients collected from a 15 year heart study cohort is made available for this assignment. The dataset has 16 patient features. Note that none of the features include any Blood Test information."
      ]
    },
    {
      "cell_type": "markdown",
      "metadata": {
        "id": "Ghwpnkh_hiZi"
      },
      "source": [
        "## Data Column (Feature Names) Descriptions\n",
        "\n",
        "*   **cvd_4types**: Risk of Cardiovascular Disease. 0 - “No Risk”, 1 - “Risk Present” (Label Column)\n",
        "*   **age_s1**: Age in Years\n",
        "*   **race**: 1 - White, 2 - Black, 3 – Other\n",
        "* **educat**: Education Level (Less than 10 years, 11-15, 16-20, 20>)\n",
        "* **mstat**: Marital Status: 1- married, 2 - widowed, 3 - divorced/separated, 4 - never married, 8 - unknown/refused\n",
        "* **hip**: Hip Circumference (in cm)\n",
        "* **neck20**: Neck Circumference (in cm)\n",
        "* **waist**: Waist Circumfrence (in cm)\n",
        "* **av_weight_kg**: Average Weight (in kg)\n",
        "* **cgpkyr**: Number of Cigarette Packs per Year\n",
        "* **tea15**: Cups of Tea on a regular Day\n",
        "* **srhype**: Self-reported Hypertension\n",
        "* **parrptdiab**: History of Diabetes\n",
        "* **bend25**: Health restricting activities such as bending, kneeling, or stooping: 1 - Yes, limited a lot, 2 - Yes, limited a little, 3 - No, not limited at all\n",
        "* **happy25**: Happiness level in the past four weeks. Scale of 1-6\n",
        "* **tired25**: Tiredness level in the past four weeks. Scale of 1-6\n",
        "* **hlthlm25**: Social activities limited by health conditions in the past four weeks. Scale of 1-5 (decreasing)\n",
        "\n",
        "Where 0 = No and 1 = Yes\n",
        "\n",
        "The feature descriptions were obtained at: https://sleepdata.org/datasets/shhs/variables "
      ]
    },
    {
      "cell_type": "code",
      "metadata": {
        "id": "uO51Lbdafr6N"
      },
      "source": [
        "# Importing packages\n",
        "import pandas as pd\n",
        "import numpy as np\n",
        "from sklearn.model_selection import train_test_split\n",
        "from sklearn.linear_model import LogisticRegression\n",
        "from sklearn.metrics import confusion_matrix, classification_report, roc_curve, roc_auc_score\n",
        "from sklearn.preprocessing import StandardScaler\n",
        "import seaborn as sns\n",
        "import matplotlib.pyplot as plt"
      ],
      "execution_count": 829,
      "outputs": []
    },
    {
      "cell_type": "code",
      "metadata": {
        "id": "CTx7K0IrgV5L"
      },
      "source": [
        "cvd = pd.read_csv('https://github.com/ArinB/CA05-B-Logistic-Regression/raw/master/cvd_data.csv')"
      ],
      "execution_count": 830,
      "outputs": []
    },
    {
      "cell_type": "code",
      "metadata": {
        "colab": {
          "base_uri": "https://localhost:8080/",
          "height": 204
        },
        "id": "1kcUBm2Ngbwk",
        "outputId": "bf3b2e7b-6796-4544-f0f3-46dc39b93999"
      },
      "source": [
        "cvd.head()"
      ],
      "execution_count": 831,
      "outputs": [
        {
          "output_type": "execute_result",
          "data": {
            "text/html": [
              "<div>\n",
              "<style scoped>\n",
              "    .dataframe tbody tr th:only-of-type {\n",
              "        vertical-align: middle;\n",
              "    }\n",
              "\n",
              "    .dataframe tbody tr th {\n",
              "        vertical-align: top;\n",
              "    }\n",
              "\n",
              "    .dataframe thead th {\n",
              "        text-align: right;\n",
              "    }\n",
              "</style>\n",
              "<table border=\"1\" class=\"dataframe\">\n",
              "  <thead>\n",
              "    <tr style=\"text-align: right;\">\n",
              "      <th></th>\n",
              "      <th>cvd_4types</th>\n",
              "      <th>age_s1</th>\n",
              "      <th>race</th>\n",
              "      <th>educat</th>\n",
              "      <th>mstat</th>\n",
              "      <th>hip</th>\n",
              "      <th>neck20</th>\n",
              "      <th>waist</th>\n",
              "      <th>av_weight_kg</th>\n",
              "      <th>cgpkyr</th>\n",
              "      <th>tea15</th>\n",
              "      <th>srhype</th>\n",
              "      <th>parrptdiab</th>\n",
              "      <th>bend25</th>\n",
              "      <th>happy25</th>\n",
              "      <th>tired25</th>\n",
              "      <th>hlthlm25</th>\n",
              "    </tr>\n",
              "  </thead>\n",
              "  <tbody>\n",
              "    <tr>\n",
              "      <th>0</th>\n",
              "      <td>0</td>\n",
              "      <td>54</td>\n",
              "      <td>1</td>\n",
              "      <td>2</td>\n",
              "      <td>1</td>\n",
              "      <td>110.0</td>\n",
              "      <td>40.0</td>\n",
              "      <td>108.0</td>\n",
              "      <td>87.5</td>\n",
              "      <td>34.0</td>\n",
              "      <td>0</td>\n",
              "      <td>1</td>\n",
              "      <td>0</td>\n",
              "      <td>1</td>\n",
              "      <td>2</td>\n",
              "      <td>3</td>\n",
              "      <td>4</td>\n",
              "    </tr>\n",
              "    <tr>\n",
              "      <th>1</th>\n",
              "      <td>0</td>\n",
              "      <td>56</td>\n",
              "      <td>3</td>\n",
              "      <td>2</td>\n",
              "      <td>1</td>\n",
              "      <td>113.0</td>\n",
              "      <td>34.0</td>\n",
              "      <td>107.0</td>\n",
              "      <td>83.5</td>\n",
              "      <td>0.0</td>\n",
              "      <td>0</td>\n",
              "      <td>0</td>\n",
              "      <td>0</td>\n",
              "      <td>2</td>\n",
              "      <td>2</td>\n",
              "      <td>1</td>\n",
              "      <td>3</td>\n",
              "    </tr>\n",
              "    <tr>\n",
              "      <th>2</th>\n",
              "      <td>0</td>\n",
              "      <td>54</td>\n",
              "      <td>1</td>\n",
              "      <td>3</td>\n",
              "      <td>1</td>\n",
              "      <td>110.0</td>\n",
              "      <td>44.5</td>\n",
              "      <td>105.0</td>\n",
              "      <td>86.2</td>\n",
              "      <td>49.5</td>\n",
              "      <td>0</td>\n",
              "      <td>0</td>\n",
              "      <td>0</td>\n",
              "      <td>3</td>\n",
              "      <td>2</td>\n",
              "      <td>6</td>\n",
              "      <td>4</td>\n",
              "    </tr>\n",
              "    <tr>\n",
              "      <th>3</th>\n",
              "      <td>0</td>\n",
              "      <td>54</td>\n",
              "      <td>1</td>\n",
              "      <td>3</td>\n",
              "      <td>1</td>\n",
              "      <td>129.0</td>\n",
              "      <td>42.5</td>\n",
              "      <td>110.0</td>\n",
              "      <td>89.1</td>\n",
              "      <td>0.0</td>\n",
              "      <td>0</td>\n",
              "      <td>0</td>\n",
              "      <td>0</td>\n",
              "      <td>3</td>\n",
              "      <td>2</td>\n",
              "      <td>1</td>\n",
              "      <td>3</td>\n",
              "    </tr>\n",
              "    <tr>\n",
              "      <th>4</th>\n",
              "      <td>0</td>\n",
              "      <td>51</td>\n",
              "      <td>3</td>\n",
              "      <td>2</td>\n",
              "      <td>1</td>\n",
              "      <td>122.0</td>\n",
              "      <td>37.0</td>\n",
              "      <td>113.0</td>\n",
              "      <td>81.3</td>\n",
              "      <td>0.0</td>\n",
              "      <td>0</td>\n",
              "      <td>0</td>\n",
              "      <td>0</td>\n",
              "      <td>2</td>\n",
              "      <td>1</td>\n",
              "      <td>1</td>\n",
              "      <td>2</td>\n",
              "    </tr>\n",
              "  </tbody>\n",
              "</table>\n",
              "</div>"
            ],
            "text/plain": [
              "   cvd_4types  age_s1  race  educat  ...  bend25  happy25  tired25  hlthlm25\n",
              "0           0      54     1       2  ...       1        2        3         4\n",
              "1           0      56     3       2  ...       2        2        1         3\n",
              "2           0      54     1       3  ...       3        2        6         4\n",
              "3           0      54     1       3  ...       3        2        1         3\n",
              "4           0      51     3       2  ...       2        1        1         2\n",
              "\n",
              "[5 rows x 17 columns]"
            ]
          },
          "metadata": {
            "tags": []
          },
          "execution_count": 831
        }
      ]
    },
    {
      "cell_type": "code",
      "metadata": {
        "colab": {
          "base_uri": "https://localhost:8080/"
        },
        "id": "axUC4y3FhDe6",
        "outputId": "416e96eb-9671-4476-a5e4-f6fb1c296ef0"
      },
      "source": [
        "cvd.info()"
      ],
      "execution_count": 832,
      "outputs": [
        {
          "output_type": "stream",
          "text": [
            "<class 'pandas.core.frame.DataFrame'>\n",
            "RangeIndex: 3242 entries, 0 to 3241\n",
            "Data columns (total 17 columns):\n",
            " #   Column        Non-Null Count  Dtype  \n",
            "---  ------        --------------  -----  \n",
            " 0   cvd_4types    3242 non-null   int64  \n",
            " 1   age_s1        3242 non-null   int64  \n",
            " 2   race          3242 non-null   int64  \n",
            " 3   educat        3242 non-null   int64  \n",
            " 4   mstat         3242 non-null   int64  \n",
            " 5   hip           3242 non-null   float64\n",
            " 6   neck20        3242 non-null   float64\n",
            " 7   waist         3242 non-null   float64\n",
            " 8   av_weight_kg  3242 non-null   float64\n",
            " 9   cgpkyr        3242 non-null   float64\n",
            " 10  tea15         3242 non-null   int64  \n",
            " 11  srhype        3242 non-null   int64  \n",
            " 12  parrptdiab    3242 non-null   int64  \n",
            " 13  bend25        3242 non-null   int64  \n",
            " 14  happy25       3242 non-null   int64  \n",
            " 15  tired25       3242 non-null   int64  \n",
            " 16  hlthlm25      3242 non-null   int64  \n",
            "dtypes: float64(5), int64(12)\n",
            "memory usage: 430.7 KB\n"
          ],
          "name": "stdout"
        }
      ]
    },
    {
      "cell_type": "markdown",
      "metadata": {
        "id": "e9NVQH3AgyKI"
      },
      "source": [
        "## 1. Binary Classifier Model\n",
        "\n",
        "A binary classifier model is built to predict the risk of CVD using a logstic  model. "
      ]
    },
    {
      "cell_type": "code",
      "metadata": {
        "id": "gdLN2gf5k60n"
      },
      "source": [
        "# Selecting the feature variables\n",
        "feature_cols = cvd.drop(['cvd_4types'], axis=1)\n",
        "\n",
        "X = feature_cols # Features\n",
        "y = cvd.cvd_4types # Target variable"
      ],
      "execution_count": 833,
      "outputs": []
    },
    {
      "cell_type": "code",
      "metadata": {
        "id": "DqZScjD1mnYc"
      },
      "source": [
        "# Splitting the Dataset into 75% train and 25% test data\n",
        "X_train, X_test, y_train, y_test = train_test_split(X, y, test_size=25, random_state=0)\n",
        "\n",
        "X_test = X_test.reset_index(drop=True)\n",
        "y_test = y_test.reset_index(drop=True)"
      ],
      "execution_count": 834,
      "outputs": []
    },
    {
      "cell_type": "code",
      "metadata": {
        "id": "YAHXCBh7I2Bu"
      },
      "source": [
        "# Standardizing training data by scaling\n",
        "scaler = StandardScaler()\n",
        "\n",
        "X_train = scaler.fit_transform(X_train)\n",
        "X_test = scaler.fit_transform(X_test)"
      ],
      "execution_count": 835,
      "outputs": []
    },
    {
      "cell_type": "code",
      "metadata": {
        "colab": {
          "base_uri": "https://localhost:8080/"
        },
        "id": "euJh_UfRhBlg",
        "outputId": "9fb66490-1869-470a-8098-8c745493cb50"
      },
      "source": [
        "# Fit (train) the Logistic Regression Classifier using standardized training data\n",
        "logreg = LogisticRegression(C=0.01, penalty='l2', solver='liblinear')\n",
        "\n",
        "logreg.fit(X_train, y_train)\n",
        "#logreg.fit(X_train/np.std(X_train,0), y_train)"
      ],
      "execution_count": 836,
      "outputs": [
        {
          "output_type": "execute_result",
          "data": {
            "text/plain": [
              "LogisticRegression(C=0.01, class_weight=None, dual=False, fit_intercept=True,\n",
              "                   intercept_scaling=1, l1_ratio=None, max_iter=100,\n",
              "                   multi_class='auto', n_jobs=None, penalty='l2',\n",
              "                   random_state=None, solver='liblinear', tol=0.0001, verbose=0,\n",
              "                   warm_start=False)"
            ]
          },
          "metadata": {
            "tags": []
          },
          "execution_count": 836
        }
      ]
    },
    {
      "cell_type": "code",
      "metadata": {
        "id": "psB8M2x7Cmfh"
      },
      "source": [
        "# Making prediction using testing data\n",
        "y_pred = logreg.predict(X_test)"
      ],
      "execution_count": 837,
      "outputs": []
    },
    {
      "cell_type": "markdown",
      "metadata": {
        "id": "JlQblFrtCLfm"
      },
      "source": [
        "## 2. Feature Importance\n",
        "\n",
        "Displaying the Feature Importance of all the features sorted in the order of decreasing influence on the CVD Risk."
      ]
    },
    {
      "cell_type": "code",
      "metadata": {
        "colab": {
          "base_uri": "https://localhost:8080/",
          "height": 545
        },
        "id": "yMi84QK6sKH3",
        "outputId": "1a8dbec4-f5b3-456a-eac2-8d0b6b1e786d"
      },
      "source": [
        "# Retrieving coefficients\n",
        "# The higher the coefficient, the larger the influence of its corresponding feature on the outcome\n",
        "logreg.coef_\n",
        "\n",
        "# Storing coefficients in dictionary with feature names\n",
        "coef_dict = {}\n",
        "for coef, feat in zip(logreg.coef_[0,:],feature_cols):\n",
        "    coef_dict[feat] = coef\n",
        "\n",
        "# storing result in DataFrame including signs to show positive or negative influence\n",
        "coef = pd.DataFrame.from_dict(coef_dict,orient='index', columns=['coefficient'])\n",
        "coef"
      ],
      "execution_count": 838,
      "outputs": [
        {
          "output_type": "execute_result",
          "data": {
            "text/html": [
              "<div>\n",
              "<style scoped>\n",
              "    .dataframe tbody tr th:only-of-type {\n",
              "        vertical-align: middle;\n",
              "    }\n",
              "\n",
              "    .dataframe tbody tr th {\n",
              "        vertical-align: top;\n",
              "    }\n",
              "\n",
              "    .dataframe thead th {\n",
              "        text-align: right;\n",
              "    }\n",
              "</style>\n",
              "<table border=\"1\" class=\"dataframe\">\n",
              "  <thead>\n",
              "    <tr style=\"text-align: right;\">\n",
              "      <th></th>\n",
              "      <th>coefficient</th>\n",
              "    </tr>\n",
              "  </thead>\n",
              "  <tbody>\n",
              "    <tr>\n",
              "      <th>age_s1</th>\n",
              "      <td>0.062507</td>\n",
              "    </tr>\n",
              "    <tr>\n",
              "      <th>race</th>\n",
              "      <td>-0.300312</td>\n",
              "    </tr>\n",
              "    <tr>\n",
              "      <th>educat</th>\n",
              "      <td>0.148928</td>\n",
              "    </tr>\n",
              "    <tr>\n",
              "      <th>mstat</th>\n",
              "      <td>-0.121174</td>\n",
              "    </tr>\n",
              "    <tr>\n",
              "      <th>hip</th>\n",
              "      <td>-0.300070</td>\n",
              "    </tr>\n",
              "    <tr>\n",
              "      <th>neck20</th>\n",
              "      <td>-0.038384</td>\n",
              "    </tr>\n",
              "    <tr>\n",
              "      <th>waist</th>\n",
              "      <td>0.631839</td>\n",
              "    </tr>\n",
              "    <tr>\n",
              "      <th>av_weight_kg</th>\n",
              "      <td>-0.115230</td>\n",
              "    </tr>\n",
              "    <tr>\n",
              "      <th>cgpkyr</th>\n",
              "      <td>0.012234</td>\n",
              "    </tr>\n",
              "    <tr>\n",
              "      <th>tea15</th>\n",
              "      <td>-0.051947</td>\n",
              "    </tr>\n",
              "    <tr>\n",
              "      <th>srhype</th>\n",
              "      <td>0.065510</td>\n",
              "    </tr>\n",
              "    <tr>\n",
              "      <th>parrptdiab</th>\n",
              "      <td>0.122615</td>\n",
              "    </tr>\n",
              "    <tr>\n",
              "      <th>bend25</th>\n",
              "      <td>0.067236</td>\n",
              "    </tr>\n",
              "    <tr>\n",
              "      <th>happy25</th>\n",
              "      <td>-0.073534</td>\n",
              "    </tr>\n",
              "    <tr>\n",
              "      <th>tired25</th>\n",
              "      <td>0.092680</td>\n",
              "    </tr>\n",
              "    <tr>\n",
              "      <th>hlthlm25</th>\n",
              "      <td>-0.288335</td>\n",
              "    </tr>\n",
              "  </tbody>\n",
              "</table>\n",
              "</div>"
            ],
            "text/plain": [
              "              coefficient\n",
              "age_s1           0.062507\n",
              "race            -0.300312\n",
              "educat           0.148928\n",
              "mstat           -0.121174\n",
              "hip             -0.300070\n",
              "neck20          -0.038384\n",
              "waist            0.631839\n",
              "av_weight_kg    -0.115230\n",
              "cgpkyr           0.012234\n",
              "tea15           -0.051947\n",
              "srhype           0.065510\n",
              "parrptdiab       0.122615\n",
              "bend25           0.067236\n",
              "happy25         -0.073534\n",
              "tired25          0.092680\n",
              "hlthlm25        -0.288335"
            ]
          },
          "metadata": {
            "tags": []
          },
          "execution_count": 838
        }
      ]
    },
    {
      "cell_type": "code",
      "metadata": {
        "colab": {
          "base_uri": "https://localhost:8080/",
          "height": 545
        },
        "id": "f1QIvO6OatQp",
        "outputId": "978fae29-c0f7-4ed4-fb57-6797c9dd145d"
      },
      "source": [
        "# Obtaining coefficient's absolute value identify features' influence\n",
        "abs(coef).sort_values(by='coefficient', ascending=False)"
      ],
      "execution_count": 839,
      "outputs": [
        {
          "output_type": "execute_result",
          "data": {
            "text/html": [
              "<div>\n",
              "<style scoped>\n",
              "    .dataframe tbody tr th:only-of-type {\n",
              "        vertical-align: middle;\n",
              "    }\n",
              "\n",
              "    .dataframe tbody tr th {\n",
              "        vertical-align: top;\n",
              "    }\n",
              "\n",
              "    .dataframe thead th {\n",
              "        text-align: right;\n",
              "    }\n",
              "</style>\n",
              "<table border=\"1\" class=\"dataframe\">\n",
              "  <thead>\n",
              "    <tr style=\"text-align: right;\">\n",
              "      <th></th>\n",
              "      <th>coefficient</th>\n",
              "    </tr>\n",
              "  </thead>\n",
              "  <tbody>\n",
              "    <tr>\n",
              "      <th>waist</th>\n",
              "      <td>0.631839</td>\n",
              "    </tr>\n",
              "    <tr>\n",
              "      <th>race</th>\n",
              "      <td>0.300312</td>\n",
              "    </tr>\n",
              "    <tr>\n",
              "      <th>hip</th>\n",
              "      <td>0.300070</td>\n",
              "    </tr>\n",
              "    <tr>\n",
              "      <th>hlthlm25</th>\n",
              "      <td>0.288335</td>\n",
              "    </tr>\n",
              "    <tr>\n",
              "      <th>educat</th>\n",
              "      <td>0.148928</td>\n",
              "    </tr>\n",
              "    <tr>\n",
              "      <th>parrptdiab</th>\n",
              "      <td>0.122615</td>\n",
              "    </tr>\n",
              "    <tr>\n",
              "      <th>mstat</th>\n",
              "      <td>0.121174</td>\n",
              "    </tr>\n",
              "    <tr>\n",
              "      <th>av_weight_kg</th>\n",
              "      <td>0.115230</td>\n",
              "    </tr>\n",
              "    <tr>\n",
              "      <th>tired25</th>\n",
              "      <td>0.092680</td>\n",
              "    </tr>\n",
              "    <tr>\n",
              "      <th>happy25</th>\n",
              "      <td>0.073534</td>\n",
              "    </tr>\n",
              "    <tr>\n",
              "      <th>bend25</th>\n",
              "      <td>0.067236</td>\n",
              "    </tr>\n",
              "    <tr>\n",
              "      <th>srhype</th>\n",
              "      <td>0.065510</td>\n",
              "    </tr>\n",
              "    <tr>\n",
              "      <th>age_s1</th>\n",
              "      <td>0.062507</td>\n",
              "    </tr>\n",
              "    <tr>\n",
              "      <th>tea15</th>\n",
              "      <td>0.051947</td>\n",
              "    </tr>\n",
              "    <tr>\n",
              "      <th>neck20</th>\n",
              "      <td>0.038384</td>\n",
              "    </tr>\n",
              "    <tr>\n",
              "      <th>cgpkyr</th>\n",
              "      <td>0.012234</td>\n",
              "    </tr>\n",
              "  </tbody>\n",
              "</table>\n",
              "</div>"
            ],
            "text/plain": [
              "              coefficient\n",
              "waist            0.631839\n",
              "race             0.300312\n",
              "hip              0.300070\n",
              "hlthlm25         0.288335\n",
              "educat           0.148928\n",
              "parrptdiab       0.122615\n",
              "mstat            0.121174\n",
              "av_weight_kg     0.115230\n",
              "tired25          0.092680\n",
              "happy25          0.073534\n",
              "bend25           0.067236\n",
              "srhype           0.065510\n",
              "age_s1           0.062507\n",
              "tea15            0.051947\n",
              "neck20           0.038384\n",
              "cgpkyr           0.012234"
            ]
          },
          "metadata": {
            "tags": []
          },
          "execution_count": 839
        }
      ]
    },
    {
      "cell_type": "markdown",
      "metadata": {
        "id": "ZKEFTMV-DBGd"
      },
      "source": [
        "## 3. Model Evaluation\n",
        "Evaluating the performance of the model (including ROC Curve), explaining the performance and drawing a meaningful conclusion.\n",
        "\n",
        "Model performance will be measured by:\n",
        "* Confusion Matrix (TP, TN, FP, FN ... etc.)\n",
        "* Accuracy, Precision, Recall, F1 Score, AUC Value, ROC Curve (graph)"
      ]
    },
    {
      "cell_type": "code",
      "metadata": {
        "colab": {
          "base_uri": "https://localhost:8080/",
          "height": 363
        },
        "id": "r3tUYZwVD2jh",
        "outputId": "b37dc5e3-36b9-4ac4-9677-84956e5e7164"
      },
      "source": [
        "# Confusion Matrix\n",
        "sns.heatmap(pd.DataFrame(confusion_matrix(y_test, y_pred)), annot=True)\n",
        "\n",
        "plt.title('Confusion matrix')\n",
        "plt.ylabel('Actual label')\n",
        "plt.xlabel('Predicted label')\n",
        "plt.show()\n",
        "\n",
        "tn, fp, fn, tp = confusion_matrix(y_test, y_pred).ravel()\n",
        "print(f'True Positives: {tp}')\n",
        "print(f'False Positives: {fp}')\n",
        "print(f'True Negatives: {tn}')\n",
        "print(f'False Negatives: {fn}')"
      ],
      "execution_count": 840,
      "outputs": [
        {
          "output_type": "display_data",
          "data": {
            "image/png": "[encoded data removed]",
            "text/plain": [
              "<Figure size 432x288 with 2 Axes>"
            ]
          },
          "metadata": {
            "tags": [],
            "needs_background": "light"
          }
        },
        {
          "output_type": "stream",
          "text": [
            "True Positives: 15\n",
            "False Positives: 4\n",
            "True Negatives: 4\n",
            "False Negatives: 2\n"
          ],
          "name": "stdout"
        }
      ]
    },
    {
      "cell_type": "code",
      "metadata": {
        "colab": {
          "base_uri": "https://localhost:8080/"
        },
        "id": "Fode5SlnFUOs",
        "outputId": "ef04a069-6828-4928-9293-4f4e6ee0bfd2"
      },
      "source": [
        "# Classification report\n",
        "print(classification_report(y_test, y_pred, digits=4))\n",
        "\n",
        "# Precision = ratio of true positive predictions vs total predicted positives\n",
        "# Recall = ratio of true positive predictions vs total actual positives\n",
        "# F1-score = measures balance between precision and recall for accuracy\n",
        "\n",
        "# The model predicted 15 true positives out of 17 total positives. \n",
        "# In this case, we care more about the ability to predict true positives as the objective is to detect heart disease."
      ],
      "execution_count": 841,
      "outputs": [
        {
          "output_type": "stream",
          "text": [
            "              precision    recall  f1-score   support\n",
            "\n",
            "           0     0.6667    0.5000    0.5714         8\n",
            "           1     0.7895    0.8824    0.8333        17\n",
            "\n",
            "    accuracy                         0.7600        25\n",
            "   macro avg     0.7281    0.6912    0.7024        25\n",
            "weighted avg     0.7502    0.7600    0.7495        25\n",
            "\n"
          ],
          "name": "stdout"
        }
      ]
    },
    {
      "cell_type": "code",
      "metadata": {
        "colab": {
          "base_uri": "https://localhost:8080/"
        },
        "id": "9hdlKrwUlfVd",
        "outputId": "3ea06887-e8b2-46db-d08b-be5fa0dd8e9a"
      },
      "source": [
        "# Sensitivity and Specificity\n",
        "sensitivity = tp/(tp+fn) # ability to predict positive outcomes\n",
        "specificity = tn/(tn+fp) # ability to predict negative outcomes\n",
        "\n",
        "print('Sensitivity: ', sensitivity, '\\nSpecificity: ', specificity)"
      ],
      "execution_count": 849,
      "outputs": [
        {
          "output_type": "stream",
          "text": [
            "Sensitivity:  0.8823529411764706 \n",
            "Specificity:  0.5\n"
          ],
          "name": "stdout"
        }
      ]
    },
    {
      "cell_type": "code",
      "metadata": {
        "colab": {
          "base_uri": "https://localhost:8080/",
          "height": 295
        },
        "id": "Gk16Am-tPOMQ",
        "outputId": "636bed0d-f4e0-4260-8089-07a6b67eacf5"
      },
      "source": [
        "# ROC curve\n",
        "\n",
        "# definiting plot\n",
        "def plot_roc_curve(fpr, tpr):\n",
        "    plt.plot(fpr, tpr, color='orange', label='ROC')\n",
        "    plt.plot([0, 1], [0, 1], color='darkblue', linestyle='--')\n",
        "    plt.xlabel('False Positive Rate')\n",
        "    plt.ylabel('True Positive Rate')\n",
        "    plt.title('Receiver Operating Characteristic (ROC) Curve')\n",
        "    plt.legend()\n",
        "    plt.show()\n",
        "\n",
        "# defining inputs and plotting graph\n",
        "fpr, tpr, thresholds = roc_curve(y_test, y_pred)\n",
        "plot_roc_curve(fpr, tpr)"
      ],
      "execution_count": 842,
      "outputs": [
        {
          "output_type": "display_data",
          "data": {
            "image/png": "[encoded data removed]",
            "text/plain": [
              "<Figure size 432x288 with 1 Axes>"
            ]
          },
          "metadata": {
            "tags": [],
            "needs_background": "light"
          }
        }
      ]
    },
    {
      "cell_type": "code",
      "metadata": {
        "colab": {
          "base_uri": "https://localhost:8080/"
        },
        "id": "op2N9DoJP6HN",
        "outputId": "69516879-f118-40d8-e0b9-4ac35fc8e5a2"
      },
      "source": [
        "# AUC score\n",
        "print(\"AUC Score: \", roc_auc_score(y_test, y_pred))"
      ],
      "execution_count": 843,
      "outputs": [
        {
          "output_type": "stream",
          "text": [
            "AUC Score:  0.6911764705882353\n"
          ],
          "name": "stdout"
        }
      ]
    }
  ]
}
